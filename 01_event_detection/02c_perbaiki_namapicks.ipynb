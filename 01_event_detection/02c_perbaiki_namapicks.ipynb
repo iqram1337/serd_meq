{
 "cells": [
  {
   "cell_type": "code",
   "execution_count": 1,
   "id": "8aad1bda-f4f4-499e-875d-df280cf8945f",
   "metadata": {},
   "outputs": [],
   "source": [
    "import glob, os"
   ]
  },
  {
   "cell_type": "code",
   "execution_count": 2,
   "id": "e854340e-e68e-47ca-858a-de871b372277",
   "metadata": {},
   "outputs": [],
   "source": [
    "# Define the folder containing the files\n",
    "folder_path = \"D:/SERD/01_meq/00_seisgram2k/picks_2024_12/\"\n",
    "file_pattern = os.path.join(folder_path, \"*.pick\")  # Match all .pick files\n",
    "\n",
    "# List all matching files in the folder\n",
    "files = glob.glob(file_pattern)"
   ]
  },
  {
   "cell_type": "code",
   "execution_count": 3,
   "id": "3df63de6-37e6-4074-a8a2-35e782881e2c",
   "metadata": {
    "scrolled": true
   },
   "outputs": [
    {
     "data": {
      "text/plain": [
       "139"
      ]
     },
     "execution_count": 3,
     "metadata": {},
     "output_type": "execute_result"
    }
   ],
   "source": [
    "len(files)"
   ]
  },
  {
   "cell_type": "code",
   "execution_count": 4,
   "id": "38ad5c62-4cd6-438d-b638-6bfa53a73d9b",
   "metadata": {
    "scrolled": true
   },
   "outputs": [
    {
     "name": "stdout",
     "output_type": "stream",
     "text": [
      "Renamed: 01_20241201_336.pick -> 20241201 0212 46.pick\n",
      "Renamed: 02_20241201_336.pick -> 20241201 0434 08.pick\n",
      "Renamed: 03_20241201_336.pick -> 20241201 0455 40.pick\n",
      "Renamed: 04_20241201_336.pick -> 20241201 1948 10.pick\n",
      "Renamed: 05_20241202_337.pick -> 20241202 0903 23.pick\n",
      "Renamed: 06_20241202_337.pick -> 20241202 2005 20.pick\n",
      "Renamed: 07_20241202_337.pick -> 20241202 2216 42.pick\n",
      "Renamed: 08_20241203_338.pick -> 20241203 0320 22.pick\n",
      "Renamed: 09_20241203_338.pick -> 20241203 1829 00.pick\n",
      "Renamed: 100_20241223_358.pick -> 20241223 2151 13.pick\n",
      "Renamed: 101_20241224_359.pick -> 20241224 0440 23.pick\n",
      "Renamed: 102_20241224_359.pick -> 20241224 1747 16.pick\n",
      "Renamed: 103_20241224_359.pick -> 20241224 2338 55.pick\n",
      "Renamed: 104_20241226_361.pick -> 20241226 0059 56.pick\n",
      "Renamed: 105_20241226_361.pick -> 20241226 0100 35.pick\n",
      "Renamed: 106_20241226_361.pick -> 20241226 0620 26.pick\n",
      "Renamed: 107_20241226_361.pick -> 20241226 0624 27.pick\n",
      "Renamed: 108_20241226_361.pick -> 20241226 1015 10.pick\n",
      "Renamed: 109_20241227_362.pick -> 20241227 0031 02.pick\n",
      "Renamed: 10_20241204_339.pick -> 20241204 0155 53.pick\n",
      "Renamed: 110_20241227_362.pick -> 20241227 0040 12.pick\n",
      "Renamed: 111_20241227_362.pick -> 20241227 0628 17.pick\n",
      "Renamed: 112_20241227_362.pick -> 20241227 0741 14.pick\n",
      "Renamed: 113_20241227_362.pick -> 20241227 1532 18.pick\n",
      "Renamed: 114_20241227_362.pick -> 20241227 1552 36.pick\n",
      "Renamed: 115_20241227_362.pick -> 20241227 1607 09.pick\n",
      "Renamed: 116_20241228_363.pick -> 20241228 0010 02.pick\n",
      "Renamed: 117_20241228_363.pick -> 20241228 0547 27.pick\n",
      "Renamed: 118_20241228_363.pick -> 20241228 0858 34.pick\n",
      "Renamed: 119_20241228_363.pick -> 20241228 0858 35.pick\n",
      "Renamed: 11_20241204_339.pick -> 20241204 0646 53.pick\n",
      "Renamed: 120_20241228_363.pick -> 20241228 0859 14.pick\n",
      "Renamed: 121_20241228_363.pick -> 20241228 1201 40.pick\n",
      "Renamed: 122_20241229_364.pick -> 20241229 1034 24.pick\n",
      "Renamed: 123_20241229_364.pick -> 20241229 1116 11.pick\n",
      "Renamed: 124_20241229_364.pick -> 20241229 1823 35.pick\n",
      "Renamed: 125_20241229_364.pick -> 20241229 2256 51.pick\n",
      "Renamed: 126_20241230_365.pick -> 20241230 1250 26.pick\n",
      "Renamed: 127_20241231_366.pick -> 20241231 0249 15.pick\n",
      "Renamed: 128_20241231_366.pick -> 20241231 0732 17.pick\n",
      "Renamed: 129_20241231_366.pick -> 20241231 1010 50.pick\n",
      "Renamed: 12_20241205_340.pick -> 20241205 0504 47.pick\n",
      "Renamed: 130_20241231_366.pick -> 20241231 2022 27.pick\n",
      "Renamed: 131_20241231_366.pick -> 20241231 2030 17.pick\n",
      "Renamed: 132_20241231_366.pick -> 20241231 2033 41.pick\n",
      "Renamed: 133_20241231_366.pick -> 20241231 2038 56.pick\n",
      "Renamed: 134_20241231_366.pick -> 20241231 2051 36.pick\n",
      "Renamed: 135_20241231_366.pick -> 20241231 2055 23.pick\n",
      "Renamed: 136_20241231_366.pick -> 20241231 2204 29.pick\n",
      "Renamed: 137_20241231_366.pick -> 20241231 2206 12.pick\n",
      "Renamed: 138_20241231_366.pick -> 20241231 2215 33.pick\n",
      "Renamed: 139_20241231_366.pick -> 20241231 2247 25.pick\n",
      "Renamed: 13_20241205_340.pick -> 20241205 0652 06.pick\n",
      "Renamed: 14_20241205_340.pick -> 20241205 0701 57.pick\n",
      "Renamed: 15_20241205_340.pick -> 20241205 1414 19.pick\n",
      "Renamed: 16_20241205_340.pick -> 20241205 1729 57.pick\n",
      "Renamed: 17_20241205_340.pick -> 20241205 1821 16.pick\n",
      "Renamed: 18_20241206_341.pick -> 20241206 1805 34.pick\n",
      "Renamed: 19_20241207_342.pick -> 20241207 0251 27.pick\n",
      "Renamed: 20_20241207_342.pick -> 20241207 1150 41.pick\n",
      "Renamed: 21_20241208_343.pick -> 20241208 0459 43.pick\n",
      "Renamed: 22_20241208_343.pick -> 20241208 0905 48.pick\n",
      "Renamed: 23_20241208_343.pick -> 20241208 1000 16.pick\n",
      "Renamed: 24_20241208_343.pick -> 20241208 1152 15.pick\n",
      "Renamed: 25_20241208_343.pick -> 20241208 1152 40.pick\n",
      "Renamed: 26_20241208_343.pick -> 20241208 1619 24.pick\n",
      "Renamed: 27_20241208_343.pick -> 20241208 1856 35.pick\n",
      "Renamed: 28_20241208_343.pick -> 20241208 2324 51.pick\n",
      "Renamed: 29_20241208_343.pick -> 20241208 2326 45.pick\n",
      "Renamed: 30_20241208_343.pick -> 20241208 2336 34.pick\n",
      "Renamed: 31_20241208_343.pick -> 20241208 2346 23.pick\n",
      "Renamed: 32_20241209_344.pick -> 20241209 0741 56.pick\n",
      "Renamed: 33_20241209_344.pick -> 20241209 1420 39.pick\n",
      "Renamed: 34_20241209_344.pick -> 20241209 1818 59.pick\n",
      "Renamed: 35_20241209_344.pick -> 20241209 1935 48.pick\n",
      "Renamed: 36_20241209_344.pick -> 20241209 2016 18.pick\n",
      "Renamed: 37_20241209_344.pick -> 20241209 2126 32.pick\n",
      "Renamed: 38_20241210_345.pick -> 20241210 0021 01.pick\n",
      "Renamed: 39_20241210_345.pick -> 20241210 0737 27.pick\n",
      "Renamed: 40_20241210_345.pick -> 20241210 0737 47.pick\n",
      "Renamed: 41_20241210_345.pick -> 20241210 1327 55.pick\n",
      "Renamed: 42_20241210_345.pick -> 20241210 2034 51.pick\n",
      "Renamed: 43_20241210_345.pick -> 20241210 2034 52.pick\n",
      "Renamed: 44_20241210_345.pick -> 20241210 2038 40.pick\n",
      "Renamed: 45_20241210_345.pick -> 20241210 2039 07.pick\n",
      "Renamed: 46_20241210_345.pick -> 20241210 2039 08.pick\n",
      "Renamed: 47_20241210_345.pick -> 20241210 2039 41.pick\n",
      "Renamed: 48_20241211_346.pick -> 20241211 0912 21.pick\n",
      "Renamed: 49_20241211_346.pick -> 20241211 1226 45.pick\n",
      "Renamed: 50_20241211_346.pick -> 20241211 1556 11.pick\n",
      "Renamed: 51_20241211_346.pick -> 20241211 1634 38.pick\n",
      "Renamed: 52_20241211_346.pick -> 20241211 1746 12.pick\n",
      "Renamed: 53_20241212_347.pick -> 20241212 0637 52.pick\n",
      "Renamed: 54_20241212_347.pick -> 20241212 1531 39.pick\n",
      "Error processing D:/SERD/01_meq/00_seisgram2k/picks_2024_12\\55_20241212_347.pick: [WinError 183] Cannot create a file when that file already exists: 'D:/SERD/01_meq/00_seisgram2k/picks_2024_12\\\\55_20241212_347.pick' -> 'D:/SERD/01_meq/00_seisgram2k/picks_2024_12/20241212 1531 39.pick'\n",
      "Renamed: 56_20241212_347.pick -> 20241212 2322 48.pick\n",
      "Error processing D:/SERD/01_meq/00_seisgram2k/picks_2024_12\\57_20241212_347.pick: [WinError 183] Cannot create a file when that file already exists: 'D:/SERD/01_meq/00_seisgram2k/picks_2024_12\\\\57_20241212_347.pick' -> 'D:/SERD/01_meq/00_seisgram2k/picks_2024_12/20241212 2322 48.pick'\n",
      "Renamed: 58_20241213_348.pick -> 20241213 0108 08.pick\n",
      "Renamed: 59_20241213_348.pick -> 20241213 0307 25.pick\n",
      "Renamed: 60_20241213_348.pick -> 20241213 0705 14.pick\n",
      "Renamed: 61_20241213_348.pick -> 20241213 1147 36.pick\n",
      "Renamed: 62_20241213_348.pick -> 20241213 2007 51.pick\n",
      "Renamed: 63_20241213_348.pick -> 20241213 2048 50.pick\n",
      "Renamed: 64_20241213_348.pick -> 20241213 2348 50.pick\n",
      "Renamed: 65_20241213_348.pick -> 20241213 2348 51.pick\n",
      "Renamed: 66_20241213_348.pick -> 20241213 2358 39.pick\n",
      "Renamed: 67_20241214_349.pick -> 20241214 0648 13.pick\n",
      "Renamed: 68_20241214_349.pick -> 20241214 1243 59.pick\n",
      "Renamed: 69_20241214_349.pick -> 20241214 1603 50.pick\n",
      "Renamed: 70_20241214_349.pick -> 20241214 1700 37.pick\n",
      "Renamed: 71_20241214_349.pick -> 20241214 1816 51.pick\n",
      "Renamed: 72_20241215_350.pick -> 20241215 0625 26.pick\n",
      "Renamed: 73_20241215_350.pick -> 20241215 1131 27.pick\n",
      "Renamed: 74_20241215_350.pick -> 20241215 1349 10.pick\n",
      "Renamed: 75_20241215_350.pick -> 20241215 1406 49.pick\n",
      "Renamed: 76_20241215_350.pick -> 20241215 1638 51.pick\n",
      "Renamed: 77_20241215_350.pick -> 20241215 2354 16.pick\n",
      "Renamed: 78_20241216_351.pick -> 20241216 0325 19.pick\n",
      "Renamed: 79_20241216_351.pick -> 20241216 1811 14.pick\n",
      "Renamed: 80_20241217_352.pick -> 20241217 0053 09.pick\n",
      "Renamed: 81_20241217_352.pick -> 20241217 1255 36.pick\n",
      "Renamed: 82_20241217_352.pick -> 20241217 1732 34.pick\n",
      "Renamed: 83_20241217_352.pick -> 20241217 2111 24.pick\n",
      "Renamed: 84_20241218_353.pick -> 20241218 1356 11.pick\n",
      "Renamed: 85_20241218_353.pick -> 20241218 1714 10.pick\n",
      "Renamed: 86_20241219_354.pick -> 20241219 1114 55.pick\n",
      "Renamed: 87_20241220_355.pick -> 20241220 0107 12.pick\n",
      "Renamed: 88_20241220_355.pick -> 20241220 0118 17.pick\n",
      "Renamed: 89_20241220_355.pick -> 20241220 0118 19.pick\n",
      "Renamed: 90_20241221_356.pick -> 20241221 0429 19.pick\n",
      "Renamed: 91_20241221_356.pick -> 20241221 0429 42.pick\n",
      "Renamed: 92_20241221_356.pick -> 20241221 0500 39.pick\n",
      "Renamed: 93_20241222_357.pick -> 20241222 0622 09.pick\n",
      "Renamed: 94_20241222_357.pick -> 20241222 0937 56.pick\n",
      "Renamed: 95_20241222_357.pick -> 20241222 1133 39.pick\n",
      "Renamed: 96_20241222_357.pick -> 20241222 1519 27.pick\n",
      "Renamed: 97_20241223_358.pick -> 20241223 0612 42.pick\n",
      "Renamed: 98_20241223_358.pick -> 20241223 0643 42.pick\n",
      "Renamed: 99_20241223_358.pick -> 20241223 1443 35.pick\n",
      "Deleted old file: D:/SERD/01_meq/00_seisgram2k/picks_2024_12\\55_20241212_347.pick\n",
      "Deleted old file: D:/SERD/01_meq/00_seisgram2k/picks_2024_12\\57_20241212_347.pick\n"
     ]
    }
   ],
   "source": [
    "# Updated script to delete the old file after renaming\n",
    "for file in files:\n",
    "    try:\n",
    "        # Read the content of the file\n",
    "        with open(file, \"r\") as f:\n",
    "            lines = f.readlines()\n",
    "        \n",
    "        # Extract date, time, and seconds from the first line\n",
    "        first_line = lines[0].strip().split()\n",
    "        date = first_line[6]  # YYYYMMDD\n",
    "        time = first_line[7]  # HHMM\n",
    "        seconds = first_line[8].split(\".\")[0]  # SS (integer part)\n",
    "        \n",
    "        # Construct the new filename\n",
    "        new_filename = f\"{date} {time} {seconds}.pick\"\n",
    "        new_file_path = os.path.join(folder_path, new_filename)\n",
    "        file_lama = file.split('\\\\')[-1]\n",
    "        # Rename the file\n",
    "        os.rename(file, new_file_path)\n",
    "        print(f\"Renamed: {file_lama} -> {new_filename}\")\n",
    "\n",
    "    except Exception as e:\n",
    "        print(f\"Error processing {file}: {e}\")\n",
    "\n",
    "# Clean up old files (if renaming left residual files)\n",
    "for file in files:\n",
    "    if os.path.exists(file):  # Check if the old file still exists\n",
    "        os.remove(file)  # Delete the old file\n",
    "        print(f\"Deleted old file: {file}\")\n"
   ]
  },
  {
   "cell_type": "code",
   "execution_count": 5,
   "id": "e207d293-b024-4199-9781-934c4e00721a",
   "metadata": {},
   "outputs": [],
   "source": [
    "first_line = lines[0].strip().split()"
   ]
  },
  {
   "cell_type": "code",
   "execution_count": 6,
   "id": "936cc12a-e132-405a-9a20-a931dfbe899a",
   "metadata": {},
   "outputs": [
    {
     "data": {
      "text/plain": [
       "'35.390'"
      ]
     },
     "execution_count": 6,
     "metadata": {},
     "output_type": "execute_result"
    }
   ],
   "source": [
    "first_line[8]"
   ]
  },
  {
   "cell_type": "code",
   "execution_count": null,
   "id": "36842a0a-5b24-4401-a009-3b15a17cc7fa",
   "metadata": {},
   "outputs": [],
   "source": []
  }
 ],
 "metadata": {
  "kernelspec": {
   "display_name": "Python 3 (ipykernel)",
   "language": "python",
   "name": "python3"
  },
  "language_info": {
   "codemirror_mode": {
    "name": "ipython",
    "version": 3
   },
   "file_extension": ".py",
   "mimetype": "text/x-python",
   "name": "python",
   "nbconvert_exporter": "python",
   "pygments_lexer": "ipython3",
   "version": "3.11.11"
  }
 },
 "nbformat": 4,
 "nbformat_minor": 5
}
