{
 "cells": [
  {
   "cell_type": "code",
   "execution_count": 13,
   "id": "3e4115a7-0018-4c2a-8200-d3ee305a1bdd",
   "metadata": {},
   "outputs": [],
   "source": [
    "import pandas as pd\n",
    "import numpy as np\n",
    "import os, glob\n",
    "from datetime import datetime\n",
    "import matplotlib.pyplot as plt\n",
    "import matplotlib.dates as mdates\n",
    "import pickle\n",
    "import json\n",
    "from tqdm import tqdm"
   ]
  },
  {
   "cell_type": "code",
   "execution_count": 32,
   "id": "f8fc261f-723f-49c8-85fb-d8e4f86eb254",
   "metadata": {},
   "outputs": [],
   "source": [
    "def process_txt_file(file_path):\n",
    "    # Load the data from the file\n",
    "    df = pd.read_csv(file_path, delimiter=r'\\s+', skiprows=1, names=[\n",
    "        \"STA\", \"DT\", \"C1\", \"C2\", \"IDX\", \"QUAL\", \"RES_MS\", \"WT\", \"OFFS\"\n",
    "    ], engine='python')\n",
    "    \n",
    "    # Convert data types where appropriate\n",
    "    df['DT'] = df['DT'].astype(float)\n",
    "    df['C1'] = df['C1'].astype(int)\n",
    "    df['C2'] = df['C2'].astype(int)\n",
    "    df['IDX'] = df['IDX'].astype(int)\n",
    "    df['QUAL'] = df['QUAL'].astype(float)\n",
    "    df['RES_MS'] = df['RES_MS'].astype(float) / 1000  # Convert ms to s\n",
    "    df['WT'] = df['WT'].astype(float)\n",
    "    df['OFFS'] = df['OFFS'].astype(float)\n",
    "    \n",
    "    return df\n",
    "\n",
    "def nll2df(file_path):\n",
    "    extracted_data = []\n",
    "    with open(file_path, 'r') as file:\n",
    "        for line in file:\n",
    "            parts = line.split()\n",
    "            if len(parts) > 5 and parts[0].startswith(\"RD\"):  # Phase ID starts with RD\n",
    "                phase_id = parts[0]\n",
    "                hrmn = parts[6]  # HrMn column\n",
    "                sec = parts[7]   # Sec column\n",
    "                res = parts[17]  # Res column\n",
    "                extracted_data.append([phase_id, hrmn, sec, res])\n",
    "    \n",
    "    df_phase = pd.DataFrame(extracted_data, columns=[\"STA\", \"HrMn\", \"Sec\", \"RES_S\"])\n",
    "    df_phase['Sec'] = df_phase['Sec'].astype(float)\n",
    "    df_phase['RES_S'] = df_phase['RES_S'].astype(float)\n",
    "    #df_phase['RES_S'] = df_phase['RES_MS'] / 1000  # Convert ms to s\n",
    "    \n",
    "    return df_phase\n",
    "\n",
    "def process_multiple_files(folder_path):\n",
    "    file_list = glob.glob(f\"{folder_path}/*202*.grid0.loc.hyp\")\n",
    "    merged_df = pd.DataFrame()\n",
    "    \n",
    "    for file in file_list:\n",
    "        df = nll2df(file)\n",
    "        merged_df = pd.concat([merged_df, df], ignore_index=True)\n",
    "    \n",
    "    return merged_df"
   ]
  },
  {
   "cell_type": "code",
   "execution_count": 37,
   "id": "1885fc85-c2bd-492d-aa5e-ba90f34ff1ed",
   "metadata": {},
   "outputs": [
    {
     "data": {
      "text/html": [
       "<div>\n",
       "<style scoped>\n",
       "    .dataframe tbody tr th:only-of-type {\n",
       "        vertical-align: middle;\n",
       "    }\n",
       "\n",
       "    .dataframe tbody tr th {\n",
       "        vertical-align: top;\n",
       "    }\n",
       "\n",
       "    .dataframe thead th {\n",
       "        text-align: right;\n",
       "    }\n",
       "</style>\n",
       "<table border=\"1\" class=\"dataframe\">\n",
       "  <thead>\n",
       "    <tr style=\"text-align: right;\">\n",
       "      <th></th>\n",
       "      <th>STA</th>\n",
       "      <th>HrMn</th>\n",
       "      <th>Sec</th>\n",
       "      <th>RES_S</th>\n",
       "    </tr>\n",
       "  </thead>\n",
       "  <tbody>\n",
       "    <tr>\n",
       "      <th>0</th>\n",
       "      <td>RD05</td>\n",
       "      <td>20241101</td>\n",
       "      <td>1456.0</td>\n",
       "      <td>-0.0038</td>\n",
       "    </tr>\n",
       "    <tr>\n",
       "      <th>1</th>\n",
       "      <td>RD05</td>\n",
       "      <td>20241101</td>\n",
       "      <td>1456.0</td>\n",
       "      <td>0.0313</td>\n",
       "    </tr>\n",
       "    <tr>\n",
       "      <th>2</th>\n",
       "      <td>RD06</td>\n",
       "      <td>20241101</td>\n",
       "      <td>1456.0</td>\n",
       "      <td>0.0022</td>\n",
       "    </tr>\n",
       "    <tr>\n",
       "      <th>3</th>\n",
       "      <td>RD06</td>\n",
       "      <td>20241101</td>\n",
       "      <td>1456.0</td>\n",
       "      <td>-0.0018</td>\n",
       "    </tr>\n",
       "    <tr>\n",
       "      <th>4</th>\n",
       "      <td>RD01</td>\n",
       "      <td>20241101</td>\n",
       "      <td>1456.0</td>\n",
       "      <td>-0.0056</td>\n",
       "    </tr>\n",
       "    <tr>\n",
       "      <th>...</th>\n",
       "      <td>...</td>\n",
       "      <td>...</td>\n",
       "      <td>...</td>\n",
       "      <td>...</td>\n",
       "    </tr>\n",
       "    <tr>\n",
       "      <th>825</th>\n",
       "      <td>RD10</td>\n",
       "      <td>20241208</td>\n",
       "      <td>1856.0</td>\n",
       "      <td>-0.0660</td>\n",
       "    </tr>\n",
       "    <tr>\n",
       "      <th>826</th>\n",
       "      <td>RD14</td>\n",
       "      <td>20241208</td>\n",
       "      <td>1856.0</td>\n",
       "      <td>-0.0158</td>\n",
       "    </tr>\n",
       "    <tr>\n",
       "      <th>827</th>\n",
       "      <td>RD14</td>\n",
       "      <td>20241208</td>\n",
       "      <td>1856.0</td>\n",
       "      <td>-0.0107</td>\n",
       "    </tr>\n",
       "    <tr>\n",
       "      <th>828</th>\n",
       "      <td>RD13</td>\n",
       "      <td>20241208</td>\n",
       "      <td>1856.0</td>\n",
       "      <td>-0.2561</td>\n",
       "    </tr>\n",
       "    <tr>\n",
       "      <th>829</th>\n",
       "      <td>RD13</td>\n",
       "      <td>20241208</td>\n",
       "      <td>1856.0</td>\n",
       "      <td>-0.4362</td>\n",
       "    </tr>\n",
       "  </tbody>\n",
       "</table>\n",
       "<p>830 rows × 4 columns</p>\n",
       "</div>"
      ],
      "text/plain": [
       "      STA      HrMn     Sec   RES_S\n",
       "0    RD05  20241101  1456.0 -0.0038\n",
       "1    RD05  20241101  1456.0  0.0313\n",
       "2    RD06  20241101  1456.0  0.0022\n",
       "3    RD06  20241101  1456.0 -0.0018\n",
       "4    RD01  20241101  1456.0 -0.0056\n",
       "..    ...       ...     ...     ...\n",
       "825  RD10  20241208  1856.0 -0.0660\n",
       "826  RD14  20241208  1856.0 -0.0158\n",
       "827  RD14  20241208  1856.0 -0.0107\n",
       "828  RD13  20241208  1856.0 -0.2561\n",
       "829  RD13  20241208  1856.0 -0.4362\n",
       "\n",
       "[830 rows x 4 columns]"
      ]
     },
     "execution_count": 37,
     "metadata": {},
     "output_type": "execute_result"
    }
   ],
   "source": [
    "df_res = process_multiple_files(\"D://SERD/NonLinLoc/SERD_WORKDIR/loc/\")\n",
    "df_res.to_csv(\"res_nll.csv\",index=False)\n",
    "df_res"
   ]
  },
  {
   "cell_type": "code",
   "execution_count": 34,
   "id": "56578817-fd4a-4d7b-85db-1db347dd7f85",
   "metadata": {},
   "outputs": [
    {
     "data": {
      "image/png": "[encoded data removed]",
      "text/plain": [
       "<Figure size 640x480 with 1 Axes>"
      ]
     },
     "metadata": {},
     "output_type": "display_data"
    }
   ],
   "source": [
    "bin = np.arange(-1,1.1,0.1)\n",
    "plt.hist(df_res['RES_S'],bins=bin)\n",
    "plt.show()"
   ]
  },
  {
   "cell_type": "markdown",
   "id": "49c76098-f713-4d76-a067-0fdecf724aba",
   "metadata": {},
   "source": [
    "# Viz Residual"
   ]
  },
  {
   "cell_type": "code",
   "execution_count": 39,
   "id": "8e198a5b-0280-4bf3-8643-65aca82092a1",
   "metadata": {},
   "outputs": [],
   "source": [
    "df_wcc = pd.read_csv(\"res_wcc.csv\")\n",
    "df_nll = pd.read_csv(\"res_nll.csv\")"
   ]
  },
  {
   "cell_type": "code",
   "execution_count": 65,
   "id": "faf58d1a-b12c-4db5-922a-ca2e5f4895b8",
   "metadata": {},
   "outputs": [
    {
     "data": {
      "image/png": "[encoded data removed]",
      "text/plain": [
       "<Figure size 640x480 with 1 Axes>"
      ]
     },
     "metadata": {},
     "output_type": "display_data"
    }
   ],
   "source": [
    "bin = np.arange(-3, 3.1, 0.1)\n",
    "\n",
    "plt.hist(df_wcc['RES_S'], alpha=0.9, linewidth=1.2, label=\"Residual WCC\", bins=bin, color='tab:orange')\n",
    "plt.hist(df_nll['RES_S'], alpha=0.8, linewidth=1.2, label=\"Residual NLL\", bins=bin, color='tab:blue')\n",
    "\n",
    "plt.title(\"Comparison of travel-time residual NLL and DD WCC\")\n",
    "plt.ylabel(\"Number of residual\")\n",
    "plt.xlabel(\"Residual (s)\")\n",
    "plt.legend()\n",
    "plt.tight_layout()\n",
    "plt.savefig(\"residual.png\",dpi=500)\n",
    "plt.show()"
   ]
  },
  {
   "cell_type": "code",
   "execution_count": null,
   "id": "b2dda8d0-28a5-4272-84bd-57b7fccc7e44",
   "metadata": {},
   "outputs": [],
   "source": []
  }
 ],
 "metadata": {
  "kernelspec": {
   "display_name": "Python 3 (ipykernel)",
   "language": "python",
   "name": "python3"
  },
  "language_info": {
   "codemirror_mode": {
    "name": "ipython",
    "version": 3
   },
   "file_extension": ".py",
   "mimetype": "text/x-python",
   "name": "python",
   "nbconvert_exporter": "python",
   "pygments_lexer": "ipython3",
   "version": "3.11.11"
  }
 },
 "nbformat": 4,
 "nbformat_minor": 5
}
